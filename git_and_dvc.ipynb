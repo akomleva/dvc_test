{
 "cells": [
  {
   "cell_type": "markdown",
   "id": "9adcd1a2",
   "metadata": {},
   "source": [
    "## Git and DVC"
   ]
  },
  {
   "cell_type": "markdown",
   "id": "4a764cd4",
   "metadata": {},
   "source": [
    "### Init"
   ]
  },
  {
   "cell_type": "markdown",
   "id": "cbc14ed3",
   "metadata": {},
   "source": [
    "Рассмотрим пример работы с хранилищем на удаленном сервере и на gdrive"
   ]
  },
  {
   "cell_type": "markdown",
   "id": "8261bd46",
   "metadata": {},
   "source": [
    "Установка dvc для работы с gdrive:\n",
    "\n",
    "    pip install 'dvc[gdrive]'\n",
    "Установка dvc для работы с удаленным хранилищем с доступом по ssh:\n",
    "\n",
    "    pip install 'dvc[ssh]’"
   ]
  },
  {
   "cell_type": "markdown",
   "id": "0b0e8296",
   "metadata": {},
   "source": [
    "Заходим в папку проекта, для начала надо инициализировать git\n",
    "\n",
    "    git init\n",
    "    git remote add origin https://github.com/akomleva/dvc_test.git"
   ]
  },
  {
   "cell_type": "markdown",
   "id": "8ca109c6",
   "metadata": {},
   "source": [
    "Затем ирициализируем dvc\n",
    "\n",
    "    dvc init"
   ]
  },
  {
   "cell_type": "markdown",
   "id": "3faea81c",
   "metadata": {},
   "source": [
    "После этого в папке проекта появятся файлы с расширением *.dvc. \n",
    "Поспотреть полный список содержимого папки можно с помощью команды\n",
    "\n",
    "    ls -f"
   ]
  },
  {
   "cell_type": "markdown",
   "id": "63dabeb0",
   "metadata": {},
   "source": [
    "Добавляем удаленное хранилище.\n",
    "    \n",
    "Для gdrive:\n",
    "    \n",
    "    dvc remote add gdrive_remote gdrive://storage_id\n",
    "    \n",
    "Для ssh:\n",
    "\n",
    "    dvc remote add ssh_remote ssh://user@example.com/path_to_folder\n",
    "    dvc remote modify --local ssh_remote password mypassword\n"
   ]
  },
  {
   "cell_type": "markdown",
   "id": "438e509b",
   "metadata": {},
   "source": [
    "Информация о созданных хранишищах появится в корфиге \n",
    "\n",
    "    cat .dvc/config"
   ]
  },
  {
   "cell_type": "markdown",
   "id": "daaeb08f",
   "metadata": {},
   "source": [
    "Содержимое конфига выглядит примерно так:\n",
    "    \n",
    "    ['remote \"gdrive_remote\"']\n",
    "        url = gdrive://storage_id\n",
    "    ['remote \"ssh_remote\"']\n",
    "        url = ssh://user@example.com/path_to_folder"
   ]
  },
  {
   "cell_type": "markdown",
   "id": "3b8e483e",
   "metadata": {},
   "source": [
    "### Push\n",
    "\n",
    "Создаем новую ветку в git:\n",
    "\n",
    "    git checkout -b \"dvc_test\"\n",
    "\n",
    "\n",
    "Добавляем папки 'data' и 'model' с данными и с моделью под контроль dvc. Они автоматически попадут в .gitignore и не закоммитятся в git\n",
    "\n",
    "    dvc add data\n",
    "    dvc add model\n",
    "\n",
    "\n",
    "остальные файлы добавляем в git\n",
    "\n",
    "    git add --all\n",
    "\n",
    "\n",
    "commit to git\n",
    "\n",
    "    git commit -m \"First commit with DVC\"\n",
    "\n",
    "\n",
    "push to git\n",
    "\n",
    "    git push origin dvc_test \n",
    "    \n",
    "push to dvc remote storage\n",
    "\n",
    "    dvc push -r ssh_remote\n",
    "    \n",
    "При коммите на gdrive в первый раз придется пройти верификацию, с командной строке будет сформирована ссылка, по которой надо будет пройти, авторизоваться и получить код подтверждения. А дальшейшем при работе с этим хранилишем проходить эту процедуру не понадобится\n",
    "\n",
    "Данные в репозитории dvc хранятся в виде:\n",
    "\n",
    "    administrator@sd-jupiter34083:~/dvc_storage$ ls\n",
    "        05  19  37  4b  50  9f  c4  ef"
   ]
  },
  {
   "cell_type": "markdown",
   "id": "1102143d",
   "metadata": {},
   "source": [
    "### Pull\n",
    "\n",
    "\n",
    "    cd new_folder\n",
    "\n",
    "    git init\n",
    "    git remote add origin https://github.com/akomleva/dvc_test.git\n",
    "    git pull\n",
    "    git checkout dvc_test\n",
    "    dvc pull -r ssh_remote\n",
    "\n"
   ]
  }
 ],
 "metadata": {
  "kernelspec": {
   "display_name": "Python 3 (ipykernel)",
   "language": "python",
   "name": "python3"
  },
  "language_info": {
   "codemirror_mode": {
    "name": "ipython",
    "version": 3
   },
   "file_extension": ".py",
   "mimetype": "text/x-python",
   "name": "python",
   "nbconvert_exporter": "python",
   "pygments_lexer": "ipython3",
   "version": "3.9.7"
  }
 },
 "nbformat": 4,
 "nbformat_minor": 5
}
